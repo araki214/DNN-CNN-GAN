{
 "cells": [
  {
   "cell_type": "code",
   "execution_count": 9,
   "metadata": {},
   "outputs": [],
   "source": [
    "import numpy as np\n",
    "import matplotlib.pyplot as plt\n",
    "import chainer.optimizers as Opt\n",
    "import chainer.functions as F\n",
    "import chainer.links as L\n",
    "import chainer.datasets as ds\n",
    "import chainer.dataset.convert as con\n",
    "from chainer import Variable,Chain,config,cuda\n",
    "\n",
    "import princess as ohm"
   ]
  },
  {
   "cell_type": "code",
   "execution_count": 4,
   "metadata": {},
   "outputs": [],
   "source": [
    "train,test=ds.get_cifar10(ndim=3)\n",
    "xtrain,ttrain=con.concat_examples(train)\n",
    "xtest,ttest = con.concat_examples(test)"
   ]
  },
  {
   "cell_type": "code",
   "execution_count": 5,
   "metadata": {},
   "outputs": [
    {
     "name": "stdout",
     "output_type": "stream",
     "text": [
      "50000 3 32 32\n"
     ]
    }
   ],
   "source": [
    "Dtrain,ch,Ny,Nx=xtrain.shape\n",
    "print(Dtrain,ch,Ny,Nx)"
   ]
  },
  {
   "cell_type": "code",
   "execution_count": 5,
   "metadata": {},
   "outputs": [
    {
     "data": {
      "image/png": "[encoded data removed]",
      "text/plain": [
       "<Figure size 432x288 with 1 Axes>"
      ]
     },
     "metadata": {
      "needs_background": "light"
     },
     "output_type": "display_data"
    }
   ],
   "source": [
    "plt.imshow(xtrain[0,:,:,:].transpose(1,2,0))\n",
    "plt.show()"
   ]
  },
  {
   "cell_type": "code",
   "execution_count": 6,
   "metadata": {},
   "outputs": [],
   "source": [
    "C=ttrain.max()+1\n",
    "H1=10\n",
    "layers={}\n",
    "layers[\"conv1\"]=L.Convolution2D(ch,H1,ksize=3,stride=1,pad=1)\n",
    "layers[\"l1\"]=L.Linear(None,C)\n",
    "NN=Chain(**layers)"
   ]
  },
  {
   "cell_type": "code",
   "execution_count": 7,
   "metadata": {},
   "outputs": [],
   "source": [
    "def model(x):\n",
    "    h=NN.conv1(x)\n",
    "    h=F.relu(h)\n",
    "    h=NN.bnorm1(h)\n",
    "    h=F.max_pooling_2d(h,ksize=3,stride=2,pad=1)\n",
    "    h=NN.l1(h)\n",
    "    return h"
   ]
  },
  {
   "cell_type": "code",
   "execution_count": 8,
   "metadata": {},
   "outputs": [
    {
     "ename": "RuntimeError",
     "evalue": "CUDA environment is not correctly set up\n(see https://github.com/chainer/chainer#installation).CuPy is not correctly installed.\n\nIf you are using wheel distribution (cupy-cudaXX), make sure that the version of CuPy you installed matches with the version of CUDA on your host.\nAlso, confirm that only one CuPy package is installed:\n  $ pip freeze\n\nIf you are building CuPy from source, please check your environment, uninstall CuPy and reinstall it with:\n  $ pip install cupy --no-cache-dir -vvvv\n\nCheck the Installation Guide for details:\n  https://docs-cupy.chainer.org/en/latest/install.html\n\noriginal error: libcuda.so.1: cannot open shared object file: No such file or directory",
     "output_type": "error",
     "traceback": [
      "\u001b[0;31m---------------------------------------------------------------------------\u001b[0m",
      "\u001b[0;31mRuntimeError\u001b[0m                              Traceback (most recent call last)",
      "\u001b[0;32m<ipython-input-8-50c6a2523f94>\u001b[0m in \u001b[0;36m<module>\u001b[0;34m()\u001b[0m\n\u001b[1;32m      1\u001b[0m \u001b[0mgpu_device\u001b[0m\u001b[0;34m=\u001b[0m\u001b[0;36m0\u001b[0m\u001b[0;34m\u001b[0m\u001b[0;34m\u001b[0m\u001b[0m\n\u001b[0;32m----> 2\u001b[0;31m \u001b[0mcuda\u001b[0m\u001b[0;34m.\u001b[0m\u001b[0mget_device\u001b[0m\u001b[0;34m(\u001b[0m\u001b[0mgpu_device\u001b[0m\u001b[0;34m)\u001b[0m\u001b[0;34m.\u001b[0m\u001b[0muse\u001b[0m\u001b[0;34m(\u001b[0m\u001b[0;34m)\u001b[0m\u001b[0;34m\u001b[0m\u001b[0;34m\u001b[0m\u001b[0m\n\u001b[0m\u001b[1;32m      3\u001b[0m \u001b[0mNN\u001b[0m\u001b[0;34m.\u001b[0m\u001b[0mto_gpu\u001b[0m\u001b[0;34m(\u001b[0m\u001b[0mgpu_device\u001b[0m\u001b[0;34m)\u001b[0m\u001b[0;34m\u001b[0m\u001b[0;34m\u001b[0m\u001b[0m\n\u001b[1;32m      4\u001b[0m \u001b[0moptNN\u001b[0m\u001b[0;34m=\u001b[0m\u001b[0mOpt\u001b[0m\u001b[0;34m.\u001b[0m\u001b[0mMomentumSGD\u001b[0m\u001b[0;34m(\u001b[0m\u001b[0;34m)\u001b[0m\u001b[0;34m\u001b[0m\u001b[0;34m\u001b[0m\u001b[0m\n\u001b[1;32m      5\u001b[0m \u001b[0moptNN\u001b[0m\u001b[0;34m.\u001b[0m\u001b[0msetup\u001b[0m\u001b[0;34m(\u001b[0m\u001b[0mNN\u001b[0m\u001b[0;34m)\u001b[0m\u001b[0;34m\u001b[0m\u001b[0;34m\u001b[0m\u001b[0m\n",
      "\u001b[0;32m~/anaconda3/lib/python3.7/site-packages/chainer/backends/cuda.py\u001b[0m in \u001b[0;36mget_device\u001b[0;34m(*args)\u001b[0m\n\u001b[1;32m    224\u001b[0m     warnings.warn('get_device is deprecated. Please use get_device_from_id or'\n\u001b[1;32m    225\u001b[0m                   ' get_device_from_array instead.', DeprecationWarning)\n\u001b[0;32m--> 226\u001b[0;31m     \u001b[0;32mreturn\u001b[0m \u001b[0m_get_device\u001b[0m\u001b[0;34m(\u001b[0m\u001b[0;34m*\u001b[0m\u001b[0margs\u001b[0m\u001b[0;34m)\u001b[0m\u001b[0;34m\u001b[0m\u001b[0;34m\u001b[0m\u001b[0m\n\u001b[0m\u001b[1;32m    227\u001b[0m \u001b[0;34m\u001b[0m\u001b[0m\n\u001b[1;32m    228\u001b[0m \u001b[0;34m\u001b[0m\u001b[0m\n",
      "\u001b[0;32m~/anaconda3/lib/python3.7/site-packages/chainer/backends/cuda.py\u001b[0m in \u001b[0;36m_get_device\u001b[0;34m(*args)\u001b[0m\n\u001b[1;32m    230\u001b[0m     \u001b[0;32mfor\u001b[0m \u001b[0marg\u001b[0m \u001b[0;32min\u001b[0m \u001b[0margs\u001b[0m\u001b[0;34m:\u001b[0m\u001b[0;34m\u001b[0m\u001b[0;34m\u001b[0m\u001b[0m\n\u001b[1;32m    231\u001b[0m         \u001b[0;32mif\u001b[0m \u001b[0mtype\u001b[0m\u001b[0;34m(\u001b[0m\u001b[0marg\u001b[0m\u001b[0;34m)\u001b[0m \u001b[0;32mis\u001b[0m \u001b[0;32mnot\u001b[0m \u001b[0mbool\u001b[0m \u001b[0;32mand\u001b[0m \u001b[0misinstance\u001b[0m\u001b[0;34m(\u001b[0m\u001b[0marg\u001b[0m\u001b[0;34m,\u001b[0m \u001b[0m_integer_types\u001b[0m\u001b[0;34m)\u001b[0m\u001b[0;34m:\u001b[0m\u001b[0;34m\u001b[0m\u001b[0;34m\u001b[0m\u001b[0m\n\u001b[0;32m--> 232\u001b[0;31m             \u001b[0mcheck_cuda_available\u001b[0m\u001b[0;34m(\u001b[0m\u001b[0;34m)\u001b[0m\u001b[0;34m\u001b[0m\u001b[0;34m\u001b[0m\u001b[0m\n\u001b[0m\u001b[1;32m    233\u001b[0m             \u001b[0;32mreturn\u001b[0m \u001b[0mDevice\u001b[0m\u001b[0;34m(\u001b[0m\u001b[0marg\u001b[0m\u001b[0;34m)\u001b[0m\u001b[0;34m\u001b[0m\u001b[0;34m\u001b[0m\u001b[0m\n\u001b[1;32m    234\u001b[0m         \u001b[0;32mif\u001b[0m \u001b[0misinstance\u001b[0m\u001b[0;34m(\u001b[0m\u001b[0marg\u001b[0m\u001b[0;34m,\u001b[0m \u001b[0mndarray\u001b[0m\u001b[0;34m)\u001b[0m\u001b[0;34m:\u001b[0m\u001b[0;34m\u001b[0m\u001b[0;34m\u001b[0m\u001b[0m\n",
      "\u001b[0;32m~/anaconda3/lib/python3.7/site-packages/chainer/backends/cuda.py\u001b[0m in \u001b[0;36mcheck_cuda_available\u001b[0;34m()\u001b[0m\n\u001b[1;32m     91\u001b[0m                '(see https://github.com/chainer/chainer#installation).')\n\u001b[1;32m     92\u001b[0m         \u001b[0mmsg\u001b[0m \u001b[0;34m+=\u001b[0m \u001b[0mstr\u001b[0m\u001b[0;34m(\u001b[0m\u001b[0m_resolution_error\u001b[0m\u001b[0;34m)\u001b[0m\u001b[0;34m\u001b[0m\u001b[0;34m\u001b[0m\u001b[0m\n\u001b[0;32m---> 93\u001b[0;31m         \u001b[0;32mraise\u001b[0m \u001b[0mRuntimeError\u001b[0m\u001b[0;34m(\u001b[0m\u001b[0mmsg\u001b[0m\u001b[0;34m)\u001b[0m\u001b[0;34m\u001b[0m\u001b[0;34m\u001b[0m\u001b[0m\n\u001b[0m\u001b[1;32m     94\u001b[0m     if (not cudnn_enabled and\n\u001b[1;32m     95\u001b[0m             \u001b[0;32mnot\u001b[0m \u001b[0m_cudnn_disabled_by_user\u001b[0m \u001b[0;32mand\u001b[0m\u001b[0;34m\u001b[0m\u001b[0;34m\u001b[0m\u001b[0m\n",
      "\u001b[0;31mRuntimeError\u001b[0m: CUDA environment is not correctly set up\n(see https://github.com/chainer/chainer#installation).CuPy is not correctly installed.\n\nIf you are using wheel distribution (cupy-cudaXX), make sure that the version of CuPy you installed matches with the version of CUDA on your host.\nAlso, confirm that only one CuPy package is installed:\n  $ pip freeze\n\nIf you are building CuPy from source, please check your environment, uninstall CuPy and reinstall it with:\n  $ pip install cupy --no-cache-dir -vvvv\n\nCheck the Installation Guide for details:\n  https://docs-cupy.chainer.org/en/latest/install.html\n\noriginal error: libcuda.so.1: cannot open shared object file: No such file or directory"
     ]
    }
   ],
   "source": [
    "gpu_device=0\n",
    "cuda.get_device(gpu_device).use()\n",
    "NN.to_gpu(gpu_device)\n",
    "optNN=Opt.MomentumSGD()\n",
    "optNN.setup(NN)\n",
    "train_loss=[]\n",
    "train_acc=[]\n",
    "test_loss=[]\n",
    "test_acc=[]\n",
    "data=cuda.to_gpu([xtrain,xtest,ttrain,ttest],gpu_device)\n",
    "result=[train_loss,test_loss,train_acc,test_acc]\n",
    "ohm.learning_classification(model,optNN,data,result,100)\n"
   ]
  },
  {
   "cell_type": "code",
   "execution_count": null,
   "metadata": {},
   "outputs": [],
   "source": [
    "import numpy as np\n",
    "import matplotlib.pyplot as plt\n",
    "import chainer.optimizers as Opt\n",
    "import chainer.functions as F\n",
    "import chainer.links as L\n",
    "import chainer.datasets as ds\n",
    "import chainer.dataset.convert as con\n",
    "from chainer import Variable,Chain,config,cuda\n",
    "\n",
    "import princess as ohm\n",
    "from chainer.iterators import SerialIterator as siter"
   ]
  },
  {
   "cell_type": "code",
   "execution_count": null,
   "metadata": {},
   "outputs": [],
   "source": [
    "train_loss=[]\n",
    "train_acc=[]\n",
    "test_loss=[]\n",
    "test_acc=[]\n",
    "result=[train_loss,test_loss,train_acc,test_acc]\n"
   ]
  },
  {
   "cell_type": "code",
   "execution_count": null,
   "metadata": {},
   "outputs": [],
   "source": [
    "batch_size=5000\n",
    "train_iter=siter(train,batch_size)"
   ]
  },
  {
   "cell_type": "code",
   "execution_count": null,
   "metadata": {},
   "outputs": [],
   "source": [
    "nepoch = 20\n",
    "while train_iter.epoch < nepoch:\n",
    "    batch = train_iter.next()\n",
    "    xtrain,ttrain = con.concat_examples(batch)\n",
    "    data=cuda.to_gpu([xtrain,xtest,ttrain,ttest])\n",
    "    ohm.learning_classification(model,optNN,data,result,1)"
   ]
  },
  {
   "cell_type": "code",
   "execution_count": null,
   "metadata": {},
   "outputs": [],
   "source": [
    "ohm.plot_result2(result[0],result[1],\"loss function\",\"step\",\"loss function\",0.0,4.0)\n",
    "ohm.plot_result2(result[2],result[3],\"accuracy\",\"step\",\"accuracy\",0.0,4.0)"
   ]
  },
  {
   "cell_type": "code",
   "execution_count": null,
   "metadata": {},
   "outputs": [],
   "source": [
    "C = ttrain.max()+1\n",
    "H1=32\n",
    "layers={}\n",
    "layers[\"cnn1\"]=ohm.CNN(ch,H1)\n",
    "layers[\"cnn2\"]=ohm.CNN(H1,H1)\n",
    "layers[\"cnn3\"]=ohm.CNN(H1,C)\n",
    "layers[\"l1\"]=L.Linear(None,H2)\n",
    "layers[\"l2\"]=L.Linear(H2,C)\n",
    "layers[\"bnorm1\"]=L.BatchNormalization(H2)\n",
    "NN=Chain(**layers)\n"
   ]
  },
  {
   "cell_type": "code",
   "execution_count": null,
   "metadata": {},
   "outputs": [],
   "source": [
    "def model(x,ratio=0.1):\n",
    "    h=NN.cnn1(x)\n",
    "    h=NN.cnn2(h)\n",
    "    h=NN.cnn3(h)\n",
    "    h=NN.l1(h)\n",
    "    h=F.relu(h)\n",
    "    h=NN.bnorm1(h)\n",
    "    #h=F.dropout(h,ratio)\n",
    "    #y=NN.l2(h)\n",
    "    y=F.mean(h,axis=(2,3))\n",
    "    return y"
   ]
  },
  {
   "cell_type": "code",
   "execution_count": null,
   "metadata": {},
   "outputs": [],
   "source": [
    "from chainer import optimizer_hooks as oph\n",
    "OptNN.add_hook(oph.WeightDecay(rate=0.0005))"
   ]
  },
  {
   "cell_type": "code",
   "execution_count": 10,
   "metadata": {},
   "outputs": [
    {
     "ename": "NameError",
     "evalue": "name 'OptNN' is not defined",
     "output_type": "error",
     "traceback": [
      "\u001b[0;31m---------------------------------------------------------------------------\u001b[0m",
      "\u001b[0;31mNameError\u001b[0m                                 Traceback (most recent call last)",
      "\u001b[0;32m<ipython-input-10-69d58edd0be6>\u001b[0m in \u001b[0;36m<module>\u001b[0;34m()\u001b[0m\n\u001b[1;32m      1\u001b[0m \u001b[0;32mfrom\u001b[0m \u001b[0mchainer\u001b[0m \u001b[0;32mimport\u001b[0m \u001b[0moptimizer_hooks\u001b[0m \u001b[0;32mas\u001b[0m \u001b[0moph\u001b[0m\u001b[0;34m\u001b[0m\u001b[0;34m\u001b[0m\u001b[0m\n\u001b[0;32m----> 2\u001b[0;31m \u001b[0mOptNN\u001b[0m\u001b[0;34m.\u001b[0m\u001b[0madd_hook\u001b[0m\u001b[0;34m(\u001b[0m\u001b[0moph\u001b[0m\u001b[0;34m.\u001b[0m\u001b[0mLasso\u001b[0m\u001b[0;34m(\u001b[0m\u001b[0mrate\u001b[0m\u001b[0;34m=\u001b[0m\u001b[0;36m0.0005\u001b[0m\u001b[0;34m)\u001b[0m\u001b[0;34m)\u001b[0m\u001b[0;34m\u001b[0m\u001b[0;34m\u001b[0m\u001b[0m\n\u001b[0m",
      "\u001b[0;31mNameError\u001b[0m: name 'OptNN' is not defined"
     ]
    }
   ],
   "source": [
    "from chainer import optimizer_hooks as oph\n",
    "OptNN.add_hook(oph.Lasso(rate=0.0005))"
   ]
  },
  {
   "cell_type": "code",
   "execution_count": 11,
   "metadata": {},
   "outputs": [
    {
     "ename": "NameError",
     "evalue": "name 'siter' is not defined",
     "output_type": "error",
     "traceback": [
      "\u001b[0;31m---------------------------------------------------------------------------\u001b[0m",
      "\u001b[0;31mNameError\u001b[0m                                 Traceback (most recent call last)",
      "\u001b[0;32m<ipython-input-11-d0731b10e607>\u001b[0m in \u001b[0;36m<module>\u001b[0;34m()\u001b[0m\n\u001b[1;32m      1\u001b[0m \u001b[0mbatch_size\u001b[0m\u001b[0;34m=\u001b[0m\u001b[0;36m5000\u001b[0m\u001b[0;34m\u001b[0m\u001b[0;34m\u001b[0m\u001b[0m\n\u001b[0;32m----> 2\u001b[0;31m \u001b[0mtrain_iter\u001b[0m\u001b[0;34m=\u001b[0m\u001b[0msiter\u001b[0m\u001b[0;34m(\u001b[0m\u001b[0mtrain\u001b[0m\u001b[0;34m,\u001b[0m\u001b[0mbatch_size\u001b[0m\u001b[0;34m)\u001b[0m\u001b[0;34m\u001b[0m\u001b[0;34m\u001b[0m\u001b[0m\n\u001b[0m\u001b[1;32m      3\u001b[0m \u001b[0mnepoch\u001b[0m \u001b[0;34m=\u001b[0m \u001b[0;36m20\u001b[0m\u001b[0;34m\u001b[0m\u001b[0;34m\u001b[0m\u001b[0m\n\u001b[1;32m      4\u001b[0m \u001b[0;32mwhile\u001b[0m \u001b[0mtrain_iter\u001b[0m\u001b[0;34m.\u001b[0m\u001b[0mepoch\u001b[0m \u001b[0;34m<\u001b[0m \u001b[0mnepoch\u001b[0m\u001b[0;34m:\u001b[0m\u001b[0;34m\u001b[0m\u001b[0;34m\u001b[0m\u001b[0m\n\u001b[1;32m      5\u001b[0m     \u001b[0mbatch\u001b[0m \u001b[0;34m=\u001b[0m \u001b[0mtrain_iter\u001b[0m\u001b[0;34m.\u001b[0m\u001b[0mnext\u001b[0m\u001b[0;34m(\u001b[0m\u001b[0;34m)\u001b[0m\u001b[0;34m\u001b[0m\u001b[0;34m\u001b[0m\u001b[0m\n",
      "\u001b[0;31mNameError\u001b[0m: name 'siter' is not defined"
     ]
    }
   ],
   "source": [
    "batch_size=5000\n",
    "train_iter=siter(train,batch_size)\n",
    "nepoch = 20\n",
    "while train_iter.epoch < nepoch:\n",
    "    batch = train_iter.next()\n",
    "    batch=ds.TransformDataset(batch,ohm.flip_labeled)\n",
    "    batch=ds.TransformDataset(batch,ohm.shift_labeled)\n",
    "    xtrain,ttrain = con.concat_examples(batch)\n",
    "    data=cuda.to_gpu([xtrain,xtest,ttrain,ttest])\n",
    "    ohm.learning_classification(model,optNN,data,result,1)"
   ]
  },
  {
   "cell_type": "code",
   "execution_count": 3,
   "metadata": {},
   "outputs": [],
   "source": [
    "import numpy as np\n",
    "import matplotlib.pyplot as plt\n",
    "import chainer.optimizers as Opt\n",
    "import chainer.functions as F\n",
    "import chainer.links as L\n",
    "import chainer.datasets as ds\n",
    "import chainer.dataset.convert as con\n",
    "from chainer import Variable,Chain,config,cuda\n",
    "\n",
    "import princess as ohm\n",
    "from chainer.iterators import SerialIterator as siter\n",
    "from IPython import display"
   ]
  },
  {
   "cell_type": "code",
   "execution_count": null,
   "metadata": {},
   "outputs": [],
   "source": [
    "train,test=ds.get_cifar10(ndim=3)\n",
    "xtrain,ttrain=con.concat_examples(train)\n",
    "xtest,ttest = con.concat_examples(test)\n",
    "Dtrain,ch,Ny,Nx=xtrain.shape\n",
    "C = ttrain.max()+1\n",
    "H1=32\n",
    "H2=16\n",
    "layers={}\n",
    "layers[\"cnn1\"]=ohm.CNN(ch,H1)\n",
    "layers[\"cnn2\"]=ohm.CNN(H1,H1)\n",
    "layers[\"cnn3\"]=ohm.CNN(H1,C)\n",
    "layers[\"l1\"]=L.Linear(None,H2)\n",
    "layers[\"l2\"]=L.Linear(H2,C)\n",
    "layers[\"bnorm1\"]=L.BatchNormalization(H2)\n",
    "NN=Chain(**layers)\n",
    "\n",
    "def model(x):\n",
    "    h=NN.cnn1(x)\n",
    "    h=NN.cnn2(h)\n",
    "    h=NN.cnn3(h)\n",
    "    h=NN.l1(h)\n",
    "    h=F.relu(h)\n",
    "    h=NN.bnorm1(h)\n",
    "    h=F.dropout(h,ratio=0.0005)\n",
    "    #y=NN.l2(h)\n",
    "    y=F.mean(h,axis=(2,3))\n",
    "    return y\n",
    "\n",
    "train_loss=[]\n",
    "train_acc=[]\n",
    "test_loss=[]\n",
    "test_acc=[]\n",
    "result=[train_loss,test_loss,train_acc,test_acc]\n",
    "\n",
    "gpu_device=0\n",
    "#cuda.get_device(gpu_device).use()\n",
    "#NN.to_gpu(gpu_device)\n",
    "OptNN=Opt.MomentumSGD()\n",
    "OptNN.setup(NN)\n",
    "\n",
    "from chainer import optimizer_hooks as oph\n",
    "OptNN.add_hook(oph.WeightDecay(rate=0.0005))\n",
    "\n",
    "from chainer import optimizer_hooks as oph\n",
    "OptNN.add_hook(oph.Lasso(rate=0.0005))\n",
    "\n",
    "batch_size=1000\n",
    "train_iter=siter(train,batch_size)\n",
    "nepoch = 50\n",
    "while train_iter.epoch < nepoch:\n",
    "    batch = train_iter.next()\n",
    "    batch=ds.TransformDataset(batch,ohm.flip_labeled)\n",
    "    batch=ds.TransformDataset(batch,ohm.shift_labeled)\n",
    "    xtrain,ttrain = con.concat_examples(batch)\n",
    "    #data=cuda.to_gpu([xtrain,xtest,ttrain,ttest])\n",
    "    data=[xtrain,xtest,ttrain,ttest]\n",
    "    ohm.learning_classification(model,OptNN,data,result,1)\n",
    "    if train_iter.is_new_epoch==1:\n",
    "        display.clear_output(wait=True)\n",
    "        print('epoch:',train_iter.epoch)\n",
    "        ohm.plot_result2(result[0],result[1],'loss function','step','loss function',0.0,4.0)\n",
    "        ohm.plot_result2(result[2],result[3],'accuracy', 'step','accuracy') "
   ]
  },
  {
   "cell_type": "code",
   "execution_count": 6,
   "metadata": {},
   "outputs": [
    {
     "name": "stdout",
     "output_type": "stream",
     "text": [
      "input: (2, 3, 32, 32)\n",
      "output: (2, 10, 32, 32)\n"
     ]
    }
   ],
   "source": [
    "x =np.random.rand(2*ch*Ny*Nx).reshape(2,ch,Ny,Nx).astype(np.float32)\n",
    "h=ohm.check_network(x,L.Convolution2D(ch,10,ksize=3,stride=1,pad=1))"
   ]
  }
 ],
 "metadata": {
  "kernelspec": {
   "display_name": "Python 3",
   "language": "python",
   "name": "python3"
  },
  "language_info": {
   "codemirror_mode": {
    "name": "ipython",
    "version": 3
   },
   "file_extension": ".py",
   "mimetype": "text/x-python",
   "name": "python",
   "nbconvert_exporter": "python",
   "pygments_lexer": "ipython3",
   "version": "3.7.2"
  }
 },
 "nbformat": 4,
 "nbformat_minor": 2
}
