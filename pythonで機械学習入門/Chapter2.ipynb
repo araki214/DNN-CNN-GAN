{
 "cells": [
  {
   "cell_type": "code",
   "execution_count": 8,
   "metadata": {},
   "outputs": [],
   "source": [
    "import chainer.optimizers as Opt\n",
    "import chainer.functions as F\n",
    "import chainer.links as L\n",
    "from chainer import Variable,Chain,config"
   ]
  },
  {
   "cell_type": "code",
   "execution_count": 29,
   "metadata": {},
   "outputs": [
    {
     "data": {
      "text/plain": [
       "array([0, 0, 0, 0, 0, 0, 0, 1, 0, 1, 1, 0, 0, 0, 1, 1, 1, 0, 0, 0, 0, 1,\n",
       "       0, 1, 0, 1, 0, 1, 1, 0, 0, 0, 0, 0, 0, 0, 0, 0, 1, 0, 0, 0, 0, 1,\n",
       "       0, 0, 0, 0, 1, 0, 0, 0, 1, 1, 0, 0, 0, 0, 0, 1, 0, 0, 0, 1, 0, 1,\n",
       "       0, 0, 1, 0, 1, 0, 0, 0, 1, 1, 0, 0, 0, 0, 0, 0, 0, 0, 1, 1, 0, 0,\n",
       "       0, 0, 0, 0, 1, 1, 0, 0, 0, 0, 0, 0], dtype=int32)"
      ]
     },
     "execution_count": 29,
     "metadata": {},
     "output_type": "execute_result"
    }
   ],
   "source": [
    "import numpy as np\n",
    "import matplotlib.pyplot as plt\n",
    "D=100\n",
    "N=2\n",
    "xdata=np.random.randn(N*D).reshape(D,N).astype(np.float32)\n",
    "def f(x):\n",
    "    y=x*x\n",
    "    return y\n",
    "tdata=(xdata[:,1]>f(xdata[:,0])).astype(np.int32)\n",
    "tdata"
   ]
  },
  {
   "cell_type": "code",
   "execution_count": 30,
   "metadata": {},
   "outputs": [],
   "source": [
    "C=2\n",
    "NN=Chain(l1=L.Linear(N,C))"
   ]
  },
  {
   "cell_type": "code",
   "execution_count": 31,
   "metadata": {},
   "outputs": [],
   "source": [
    "def model(x):\n",
    "    y=NN.l1(x)\n",
    "    return y"
   ]
  },
  {
   "cell_type": "code",
   "execution_count": 32,
   "metadata": {},
   "outputs": [],
   "source": [
    "ydata=model(xdata)"
   ]
  },
  {
   "cell_type": "code",
   "execution_count": 33,
   "metadata": {},
   "outputs": [
    {
     "name": "stdout",
     "output_type": "stream",
     "text": [
      "variable(0.7)\n"
     ]
    }
   ],
   "source": [
    "acc=F.accuracy(ydata,tdata)\n",
    "print(acc)"
   ]
  },
  {
   "cell_type": "code",
   "execution_count": 34,
   "metadata": {},
   "outputs": [
    {
     "data": {
      "text/plain": [
       "<chainer.optimizers.sgd.SGD at 0x7f58e55699b0>"
      ]
     },
     "execution_count": 34,
     "metadata": {},
     "output_type": "execute_result"
    }
   ],
   "source": [
    "optNN=Opt.SGD()\n",
    "optNN.setup(NN)"
   ]
  },
  {
   "cell_type": "code",
   "execution_count": 35,
   "metadata": {},
   "outputs": [],
   "source": [
    "loss_series=[]\n",
    "acc_series=[]"
   ]
  },
  {
   "cell_type": "code",
   "execution_count": 36,
   "metadata": {},
   "outputs": [],
   "source": [
    "T=5000\n",
    "for time in range(T):\n",
    "    config.train=True\n",
    "    optNN.target.zerograds()\n",
    "    ydata = model(xdata)\n",
    "    loss = F.softmax_cross_entropy(ydata,tdata)\n",
    "    acc = F.accuracy(ydata,tdata)\n",
    "    loss.backward()\n",
    "    optNN.update()\n",
    "    loss_series.append(loss.data)\n",
    "    acc_series.append(acc.data)"
   ]
  },
  {
   "cell_type": "code",
   "execution_count": 37,
   "metadata": {},
   "outputs": [
    {
     "data": {
      "image/png": "[encoded data removed]",
      "text/plain": [
       "<Figure size 576x432 with 1 Axes>"
      ]
     },
     "metadata": {
      "needs_background": "light"
     },
     "output_type": "display_data"
    }
   ],
   "source": [
    "import matplotlib.pyplot as plt\n",
    "\n",
    "Tall = len(loss_series)\n",
    "plt.figure(figsize=(8,6))\n",
    "plt.plot(range(Tall),loss_series)\n",
    "plt.title('loss function in training')\n",
    "plt.xlabel('step')\n",
    "plt.ylabel('loss function')\n",
    "plt.xlim([0,Tall])\n",
    "plt.ylim([0,1])\n",
    "plt.show()"
   ]
  },
  {
   "cell_type": "code",
   "execution_count": 38,
   "metadata": {},
   "outputs": [
    {
     "data": {
      "image/png": "[encoded data removed]",
      "text/plain": [
       "<Figure size 576x432 with 1 Axes>"
      ]
     },
     "metadata": {
      "needs_background": "light"
     },
     "output_type": "display_data"
    }
   ],
   "source": [
    "Tall = len(acc_series)\n",
    "plt.figure(figsize=(8,6))\n",
    "plt.plot(range(Tall),acc_series)\n",
    "plt.title(\"accuracy in training\")\n",
    "plt.xlabel(\"step\")\n",
    "plt.ylabel(\"accuracy\")\n",
    "plt.xlim([0,Tall])\n",
    "plt.ylim([0,1])\n",
    "plt.show()"
   ]
  },
  {
   "cell_type": "code",
   "execution_count": 39,
   "metadata": {},
   "outputs": [],
   "source": [
    "C=2\n",
    "NN=Chain(l1=L.Linear(N,4),l2=L.Linear(4,C))\n",
    "def model2(x):\n",
    "    h=NN.l1(x)\n",
    "    h=F.sigmoid(h)\n",
    "    y=NN.l2(h)\n",
    "    return y\n",
    "\n",
    "optNN=Opt.SGD()\n",
    "optNN.setup(NN)\n",
    "\n",
    "loss_series=[]\n",
    "acc_series=[]\n",
    "\n",
    "T=20000\n",
    "for time in range(T):\n",
    "    config.train=True\n",
    "    optNN.target.zerograds()\n",
    "    ydata=model2(xdata)\n",
    "    loss=F.softmax_cross_entropy(ydata,tdata)\n",
    "    acc=F.accuracy(ydata,tdata)\n",
    "    loss.backward()\n",
    "    optNN.update()\n",
    "    \n",
    "    loss_series.append(loss.data)\n",
    "    acc_series.append(acc.data)"
   ]
  },
  {
   "cell_type": "code",
   "execution_count": 40,
   "metadata": {},
   "outputs": [
    {
     "data": {
      "image/png": "[encoded data removed]",
      "text/plain": [
       "<Figure size 576x432 with 1 Axes>"
      ]
     },
     "metadata": {
      "needs_background": "light"
     },
     "output_type": "display_data"
    }
   ],
   "source": [
    "Tall = len(loss_series)\n",
    "plt.figure(figsize=(8,6))\n",
    "plt.plot(range(Tall),acc_series)\n",
    "plt.title(\"loss function in training\")\n",
    "plt.xlabel(\"step\")\n",
    "plt.ylabel(\"loss function\")\n",
    "plt.xlim([0,Tall])\n",
    "plt.ylim([0,4])\n",
    "plt.show()"
   ]
  },
  {
   "cell_type": "code",
   "execution_count": 41,
   "metadata": {},
   "outputs": [
    {
     "data": {
      "image/png": "[encoded data removed]",
      "text/plain": [
       "<Figure size 576x432 with 1 Axes>"
      ]
     },
     "metadata": {
      "needs_background": "light"
     },
     "output_type": "display_data"
    }
   ],
   "source": [
    "Tall = len(acc_series)\n",
    "plt.figure(figsize=(8,6))\n",
    "plt.plot(range(Tall),acc_series)\n",
    "plt.title(\"accuracy in training\")\n",
    "plt.xlabel(\"step\")\n",
    "plt.ylabel(\"accuracy\")\n",
    "plt.xlim([0,Tall])\n",
    "plt.ylim([0,1])\n",
    "plt.show()"
   ]
  },
  {
   "cell_type": "code",
   "execution_count": null,
   "metadata": {},
   "outputs": [],
   "source": []
  }
 ],
 "metadata": {
  "kernelspec": {
   "display_name": "Python 3",
   "language": "python",
   "name": "python3"
  },
  "language_info": {
   "codemirror_mode": {
    "name": "ipython",
    "version": 3
   },
   "file_extension": ".py",
   "mimetype": "text/x-python",
   "name": "python",
   "nbconvert_exporter": "python",
   "pygments_lexer": "ipython3",
   "version": "3.7.2"
  }
 },
 "nbformat": 4,
 "nbformat_minor": 2
}
