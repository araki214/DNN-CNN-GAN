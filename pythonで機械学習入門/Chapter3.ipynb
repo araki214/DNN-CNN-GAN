{
 "cells": [
  {
   "cell_type": "code",
   "execution_count": 14,
   "metadata": {},
   "outputs": [
    {
     "data": {
      "text/plain": [
       "array([0, 0, 0, 0, 0, 0, 0, 0, 0, 0, 0, 0, 0, 0, 0, 0, 0, 0, 0, 0, 0, 0,\n",
       "       0, 0, 0, 0, 0, 0, 0, 0, 0, 0, 0, 0, 0, 0, 0, 0, 0, 0, 0, 0, 0, 0,\n",
       "       0, 0, 0, 0, 0, 0, 1, 1, 1, 1, 1, 1, 1, 1, 1, 1, 1, 1, 1, 1, 1, 1,\n",
       "       1, 1, 1, 1, 1, 1, 1, 1, 1, 1, 1, 1, 1, 1, 1, 1, 1, 1, 1, 1, 1, 1,\n",
       "       1, 1, 1, 1, 1, 1, 1, 1, 1, 1, 1, 1, 2, 2, 2, 2, 2, 2, 2, 2, 2, 2,\n",
       "       2, 2, 2, 2, 2, 2, 2, 2, 2, 2, 2, 2, 2, 2, 2, 2, 2, 2, 2, 2, 2, 2,\n",
       "       2, 2, 2, 2, 2, 2, 2, 2, 2, 2, 2, 2, 2, 2, 2, 2, 2, 2], dtype=int32)"
      ]
     },
     "execution_count": 14,
     "metadata": {},
     "output_type": "execute_result"
    }
   ],
   "source": [
    "import numpy as np\n",
    "import matplotlib.pyplot as plt\n",
    "import sklearn.datasets as ds\n",
    "Iris=ds.load_iris()\n",
    "xdata=Iris.data.astype(np.float32)\n",
    "tdata=Iris.target.astype(np.int32)\n",
    "tdata"
   ]
  },
  {
   "cell_type": "code",
   "execution_count": 12,
   "metadata": {},
   "outputs": [
    {
     "data": {
      "text/plain": [
       "150"
      ]
     },
     "execution_count": 12,
     "metadata": {},
     "output_type": "execute_result"
    }
   ],
   "source": [
    "D,N = xdata.shape\n",
    "D"
   ]
  },
  {
   "cell_type": "code",
   "execution_count": 18,
   "metadata": {},
   "outputs": [],
   "source": [
    "Dtrain=D//2\n",
    "index=np.random.permutation(range(D))\n",
    "xtrain=xdata[index[0:Dtrain],:]\n",
    "ttrain=tdata[index[0:Dtrain]]\n",
    "xtest=xdata[index[Dtrain:D],:]\n",
    "ttest=tdata[index[Dtrain:D]]"
   ]
  },
  {
   "cell_type": "code",
   "execution_count": 19,
   "metadata": {},
   "outputs": [],
   "source": [
    "import chainer.optimizers as Opt\n",
    "import chainer.functions as F\n",
    "import chainer.links as L\n",
    "from chainer import Variable,Chain,config"
   ]
  },
  {
   "cell_type": "code",
   "execution_count": 47,
   "metadata": {},
   "outputs": [],
   "source": [
    "C=np.max(tdata)+1\n",
    "NN=Chain(l1=L.Linear(N,3),l2=L.Linear(3,3),l3=L.Linear(3,C))"
   ]
  },
  {
   "cell_type": "code",
   "execution_count": 48,
   "metadata": {},
   "outputs": [],
   "source": [
    "def model(x):\n",
    "    h=NN.l1(x)\n",
    "    h=F.sigmoid(h)\n",
    "    h=NN.l2(h)\n",
    "    h=F.sigmoid(h)\n",
    "    y=NN.l3(h)\n",
    "    return y"
   ]
  },
  {
   "cell_type": "code",
   "execution_count": 49,
   "metadata": {},
   "outputs": [],
   "source": [
    "optNN=Opt.SGD()\n",
    "optNN.setup(NN)\n",
    "train_loss=[]\n",
    "train_acc=[]\n",
    "test_loss=[]\n",
    "test_acc=[]"
   ]
  },
  {
   "cell_type": "code",
   "execution_count": 50,
   "metadata": {},
   "outputs": [],
   "source": [
    "T=1000\n",
    "for time in range(T):\n",
    "    config.train=True\n",
    "    optNN.target.zerograds()\n",
    "    ytrain=model(xtrain)\n",
    "    loss_train=F.softmax_cross_entropy(ytrain,ttrain)\n",
    "    acc_train=F.accuracy(ytrain,ttrain)\n",
    "    loss_train.backward()\n",
    "    optNN.update()\n",
    "    config.train=False\n",
    "    ytest=model(xtest)\n",
    "    loss_test=F.softmax_cross_entropy(ytest,ttest)\n",
    "    acc_test=F.accuracy(ytest,ttest)\n",
    "    train_loss.append(loss_train.data)\n",
    "    train_acc.append(acc_train.data)\n",
    "    test_loss.append(loss_test.data)\n",
    "    test_acc.append(acc_test.data)"
   ]
  },
  {
   "cell_type": "code",
   "execution_count": 51,
   "metadata": {},
   "outputs": [
    {
     "data": {
      "image/png": "[encoded data removed]",
      "text/plain": [
       "<Figure size 576x432 with 1 Axes>"
      ]
     },
     "metadata": {
      "needs_background": "light"
     },
     "output_type": "display_data"
    }
   ],
   "source": [
    "Tall=len(train_loss)\n",
    "plt.figure(figsize=(8,6))\n",
    "plt.plot(range(Tall),train_loss)\n",
    "plt.plot(range(Tall),test_loss)\n",
    "plt.title(\"loss function in training and test\")\n",
    "plt.xlabel(\"step\")\n",
    "plt.ylabel(\"loss function\")\n",
    "plt.xlim([0,Tall])\n",
    "plt.ylim([0,4])\n",
    "plt.show()"
   ]
  },
  {
   "cell_type": "code",
   "execution_count": 52,
   "metadata": {},
   "outputs": [
    {
     "data": {
      "image/png": "[encoded data removed]",
      "text/plain": [
       "<Figure size 576x432 with 1 Axes>"
      ]
     },
     "metadata": {
      "needs_background": "light"
     },
     "output_type": "display_data"
    }
   ],
   "source": [
    "Tall=len(train_acc)\n",
    "plt.figure(figsize=(8,6))\n",
    "plt.plot(range(Tall),train_acc)\n",
    "plt.plot(range(Tall),test_acc)\n",
    "plt.title(\"accuracy in training and test\")\n",
    "plt.xlabel(\"step\")\n",
    "plt.ylabel(\"accuracy\")\n",
    "plt.xlim([0,Tall])\n",
    "plt.ylim([0,1.0])\n",
    "plt.show()"
   ]
  },
  {
   "cell_type": "markdown",
   "metadata": {},
   "source": [
    "### relu関数の利用"
   ]
  },
  {
   "cell_type": "code",
   "execution_count": 53,
   "metadata": {},
   "outputs": [],
   "source": [
    "def model(x):\n",
    "    h=NN.l1(x)\n",
    "    h=F.relu(h)\n",
    "    h=NN.l2(h)\n",
    "    h=F.relu(h)\n",
    "    y=NN.l3(h)\n",
    "    return y"
   ]
  },
  {
   "cell_type": "code",
   "execution_count": 67,
   "metadata": {},
   "outputs": [],
   "source": [
    "NN=Chain(l1=L.Linear(N,3),l2=L.Linear(3,3),l3=L.Linear(3,C))\n",
    "optNN=Opt.SGD()\n",
    "optNN.setup(NN)\n",
    "train_loss=[]\n",
    "train_acc=[]\n",
    "test_loss=[]\n",
    "test_acc=[]\n",
    "T=1000\n",
    "for time in range(T):\n",
    "    config.train=True\n",
    "    optNN.target.zerograds()\n",
    "    ytrain=model(xtrain)\n",
    "    loss_train=F.softmax_cross_entropy(ytrain,ttrain)\n",
    "    acc_train=F.accuracy(ytrain,ttrain)\n",
    "    loss_train.backward()\n",
    "    optNN.update()\n",
    "    config.train=False\n",
    "    ytest=model(xtest)\n",
    "    loss_test=F.softmax_cross_entropy(ytest,ttest)\n",
    "    acc_test=F.accuracy(ytest,ttest)\n",
    "    train_loss.append(loss_train.data)\n",
    "    train_acc.append(acc_train.data)\n",
    "    test_loss.append(loss_test.data)\n",
    "    test_acc.append(acc_test.data)"
   ]
  },
  {
   "cell_type": "code",
   "execution_count": 68,
   "metadata": {},
   "outputs": [
    {
     "data": {
      "image/png": "[encoded data removed]",
      "text/plain": [
       "<Figure size 576x432 with 1 Axes>"
      ]
     },
     "metadata": {
      "needs_background": "light"
     },
     "output_type": "display_data"
    }
   ],
   "source": [
    "Tall=len(train_loss)\n",
    "plt.figure(figsize=(8,6))\n",
    "plt.plot(range(Tall),train_loss)\n",
    "plt.plot(range(Tall),test_loss)\n",
    "plt.title(\"loss function in training and test\")\n",
    "plt.xlabel(\"step\")\n",
    "plt.ylabel(\"loss function\")\n",
    "plt.xlim([0,Tall])\n",
    "plt.ylim([0,4])\n",
    "plt.show()"
   ]
  },
  {
   "cell_type": "code",
   "execution_count": 69,
   "metadata": {},
   "outputs": [
    {
     "data": {
      "image/png": "[encoded data removed]",
      "text/plain": [
       "<Figure size 576x432 with 1 Axes>"
      ]
     },
     "metadata": {
      "needs_background": "light"
     },
     "output_type": "display_data"
    }
   ],
   "source": [
    "Tall=len(train_acc)\n",
    "plt.figure(figsize=(8,6))\n",
    "plt.plot(range(Tall),train_acc)\n",
    "plt.plot(range(Tall),test_acc)\n",
    "plt.title(\"accuracy in training and test\")\n",
    "plt.xlabel(\"step\")\n",
    "plt.ylabel(\"accuracy\")\n",
    "plt.xlim([0,Tall])\n",
    "plt.ylim([0,1.0])\n",
    "plt.show()"
   ]
  },
  {
   "cell_type": "code",
   "execution_count": 58,
   "metadata": {},
   "outputs": [
    {
     "data": {
      "text/plain": [
       "['AdaDelta',\n",
       " 'AdaGrad',\n",
       " 'Adam',\n",
       " 'CorrectedMomentumSGD',\n",
       " 'MSVAG',\n",
       " 'MomentumSGD',\n",
       " 'NesterovAG',\n",
       " 'RMSprop',\n",
       " 'RMSpropGraves',\n",
       " 'SGD',\n",
       " 'SMORMS3',\n",
       " '__builtins__',\n",
       " '__cached__',\n",
       " '__doc__',\n",
       " '__file__',\n",
       " '__loader__',\n",
       " '__name__',\n",
       " '__package__',\n",
       " '__path__',\n",
       " '__spec__',\n",
       " 'ada_delta',\n",
       " 'ada_grad',\n",
       " 'adam',\n",
       " 'corrected_momentum_sgd',\n",
       " 'momentum_sgd',\n",
       " 'msvag',\n",
       " 'nesterov_ag',\n",
       " 'rmsprop',\n",
       " 'rmsprop_graves',\n",
       " 'sgd',\n",
       " 'smorms3']"
      ]
     },
     "execution_count": 58,
     "metadata": {},
     "output_type": "execute_result"
    }
   ],
   "source": [
    "dir(Opt)"
   ]
  },
  {
   "cell_type": "markdown",
   "metadata": {},
   "source": [
    "### モーメント勾配法の利用"
   ]
  },
  {
   "cell_type": "code",
   "execution_count": 76,
   "metadata": {},
   "outputs": [],
   "source": [
    "NN=Chain(l1=L.Linear(N,3),l2=L.Linear(3,3),l3=L.Linear(3,C))\n",
    "optNN=Opt.MomentumSGD()\n",
    "optNN.setup(NN)\n",
    "train_loss=[]\n",
    "train_acc=[]\n",
    "test_loss=[]\n",
    "test_acc=[]"
   ]
  },
  {
   "cell_type": "code",
   "execution_count": 77,
   "metadata": {},
   "outputs": [],
   "source": [
    "T=1000\n",
    "for time in range(T):\n",
    "    config.train=True\n",
    "    optNN.target.zerograds()\n",
    "    ytrain=model(xtrain)\n",
    "    loss_train=F.softmax_cross_entropy(ytrain,ttrain)\n",
    "    acc_train=F.accuracy(ytrain,ttrain)\n",
    "    loss_train.backward()\n",
    "    optNN.update()\n",
    "    config.train=False\n",
    "    ytest=model(xtest)\n",
    "    loss_test=F.softmax_cross_entropy(ytest,ttest)\n",
    "    acc_test=F.accuracy(ytest,ttest)\n",
    "    train_loss.append(loss_train.data)\n",
    "    train_acc.append(acc_train.data)\n",
    "    test_loss.append(loss_test.data)\n",
    "    test_acc.append(acc_test.data)"
   ]
  },
  {
   "cell_type": "code",
   "execution_count": 78,
   "metadata": {},
   "outputs": [
    {
     "data": {
      "image/png": "[encoded data removed]",
      "text/plain": [
       "<Figure size 576x432 with 1 Axes>"
      ]
     },
     "metadata": {
      "needs_background": "light"
     },
     "output_type": "display_data"
    }
   ],
   "source": [
    "Tall=len(train_loss)\n",
    "plt.figure(figsize=(8,6))\n",
    "plt.plot(range(Tall),train_loss)\n",
    "plt.plot(range(Tall),test_loss)\n",
    "plt.title(\"loss function in training and test\")\n",
    "plt.xlabel(\"step\")\n",
    "plt.ylabel(\"loss function\")\n",
    "plt.xlim([0,Tall])\n",
    "plt.ylim([0,4])\n",
    "plt.show()"
   ]
  },
  {
   "cell_type": "code",
   "execution_count": 79,
   "metadata": {},
   "outputs": [
    {
     "data": {
      "image/png": "[encoded data removed]",
      "text/plain": [
       "<Figure size 576x432 with 1 Axes>"
      ]
     },
     "metadata": {
      "needs_background": "light"
     },
     "output_type": "display_data"
    }
   ],
   "source": [
    "Tall=len(train_acc)\n",
    "plt.figure(figsize=(8,6))\n",
    "plt.plot(range(Tall),train_acc)\n",
    "plt.plot(range(Tall),test_acc)\n",
    "plt.title(\"accuracy in training and test\")\n",
    "plt.xlabel(\"step\")\n",
    "plt.ylabel(\"accuracy\")\n",
    "plt.xlim([0,Tall])\n",
    "plt.ylim([0.0,1.0])\n",
    "plt.show()"
   ]
  },
  {
   "cell_type": "markdown",
   "metadata": {},
   "source": [
    "### 適応的モーメント勾配法の利用"
   ]
  },
  {
   "cell_type": "code",
   "execution_count": 90,
   "metadata": {},
   "outputs": [],
   "source": [
    "NN=Chain(l1=L.Linear(N,3),l2=L.Linear(3,3),l3=L.Linear(3,C))\n",
    "optNN=Opt.Adam()\n",
    "optNN.setup(NN)\n",
    "train_loss=[]\n",
    "train_acc=[]\n",
    "test_loss=[]\n",
    "test_acc=[]"
   ]
  },
  {
   "cell_type": "code",
   "execution_count": 91,
   "metadata": {},
   "outputs": [],
   "source": [
    "T=1000\n",
    "for time in range(T):\n",
    "    config.train=True\n",
    "    optNN.target.zerograds()\n",
    "    ytrain=model(xtrain)\n",
    "    loss_train=F.softmax_cross_entropy(ytrain,ttrain)\n",
    "    acc_train=F.accuracy(ytrain,ttrain)\n",
    "    loss_train.backward()\n",
    "    optNN.update()\n",
    "    config.train=False\n",
    "    ytest=model(xtest)\n",
    "    loss_test=F.softmax_cross_entropy(ytest,ttest)\n",
    "    acc_test=F.accuracy(ytest,ttest)\n",
    "    train_loss.append(loss_train.data)\n",
    "    train_acc.append(acc_train.data)\n",
    "    test_loss.append(loss_test.data)\n",
    "    test_acc.append(acc_test.data)"
   ]
  },
  {
   "cell_type": "code",
   "execution_count": 92,
   "metadata": {},
   "outputs": [
    {
     "data": {
      "image/png": "[encoded data removed]",
      "text/plain": [
       "<Figure size 576x432 with 1 Axes>"
      ]
     },
     "metadata": {
      "needs_background": "light"
     },
     "output_type": "display_data"
    }
   ],
   "source": [
    "Tall=len(train_loss)\n",
    "plt.figure(figsize=(8,6))\n",
    "plt.plot(range(Tall),train_loss)\n",
    "plt.plot(range(Tall),test_loss)\n",
    "plt.title(\"loss function in training and test\")\n",
    "plt.xlabel(\"step\")\n",
    "plt.ylabel(\"loss function\")\n",
    "plt.xlim([0,Tall])\n",
    "plt.ylim([0,4])\n",
    "plt.show()"
   ]
  },
  {
   "cell_type": "code",
   "execution_count": 93,
   "metadata": {},
   "outputs": [
    {
     "data": {
      "image/png": "[encoded data removed]",
      "text/plain": [
       "<Figure size 576x432 with 1 Axes>"
      ]
     },
     "metadata": {
      "needs_background": "light"
     },
     "output_type": "display_data"
    }
   ],
   "source": [
    "Tall=len(train_acc)\n",
    "plt.figure(figsize=(8,6))\n",
    "plt.plot(range(Tall),train_acc)\n",
    "plt.plot(range(Tall),test_acc)\n",
    "plt.title(\"accuracy in training and test\")\n",
    "plt.xlabel(\"step\")\n",
    "plt.ylabel(\"accuracy\")\n",
    "plt.xlim([0,Tall])\n",
    "plt.ylim([0.0,1.0])\n",
    "plt.show()"
   ]
  },
  {
   "cell_type": "code",
   "execution_count": null,
   "metadata": {},
   "outputs": [],
   "source": []
  }
 ],
 "metadata": {
  "kernelspec": {
   "display_name": "Python 3",
   "language": "python",
   "name": "python3"
  },
  "language_info": {
   "codemirror_mode": {
    "name": "ipython",
    "version": 3
   },
   "file_extension": ".py",
   "mimetype": "text/x-python",
   "name": "python",
   "nbconvert_exporter": "python",
   "pygments_lexer": "ipython3",
   "version": "3.7.2"
  }
 },
 "nbformat": 4,
 "nbformat_minor": 2
}
